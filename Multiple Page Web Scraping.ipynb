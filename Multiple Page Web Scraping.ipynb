{
 "cells": [
  {
   "cell_type": "code",
   "execution_count": 2,
   "id": "537d5e15",
   "metadata": {},
   "outputs": [],
   "source": [
    "from bs4 import BeautifulSoup\n",
    "import requests\n",
    "\n",
    "#####################################################\n",
    "# Extracting the links of multiple movie transcripts\n",
    "#####################################################\n",
    "\n",
    "# How To Get The HTML\n",
    "root = 'https://subslikescript.com'  # this is the homepage of the website\n",
    "website = f'{root}/movies'  # concatenating the homepage with the movies section\n",
    "result = requests.get(website)\n",
    "content = result.text\n",
    "soup = BeautifulSoup(content, 'lxml')\n",
    "# print(soup.prettify())  # prints the HTML of the website\n",
    "\n",
    "# Locate the box that contains a list of movies\n",
    "box = soup.find('article', class_='main-article')\n",
    "\n",
    "# Store each link in \"links\" list (href doesn't consider root aka \"homepage\", so we have to concatenate it later)\n",
    "links = []\n",
    "for link in box.find_all('a', href=True):  # find_all returns a list\n",
    "    links.append(link['href'])\n",
    "\n",
    "#################################################\n",
    "# Extracting the movie transcript\n",
    "#################################################\n",
    "\n",
    "# Loop through the \"links\" list and sending a request to each link\n",
    "for link in links:\n",
    "    result = requests.get(f'{root}/{link}')\n",
    "    content = result.text\n",
    "    soup = BeautifulSoup(content, 'lxml')\n",
    "\n",
    "    # Locate the box that contains title and transcript\n",
    "    box = soup.find('article', class_='main-article')\n",
    "    # Locate title and transcript\n",
    "    title = box.find('h1').get_text()\n",
    "    transcript = box.find('div', class_='full-script').get_text(strip=True, separator=' ')\n",
    "\n",
    "    # Exporting data in a text file with the \"title\" name\n",
    "    with open(f'{title}.txt', 'w', encoding = 'utf-8') as file:\n",
    "        file.write(transcript)"
   ]
  },
  {
   "cell_type": "code",
   "execution_count": null,
   "id": "529695b7",
   "metadata": {},
   "outputs": [],
   "source": []
  }
 ],
 "metadata": {
  "kernelspec": {
   "display_name": "Python 3 (ipykernel)",
   "language": "python",
   "name": "python3"
  },
  "language_info": {
   "codemirror_mode": {
    "name": "ipython",
    "version": 3
   },
   "file_extension": ".py",
   "mimetype": "text/x-python",
   "name": "python",
   "nbconvert_exporter": "python",
   "pygments_lexer": "ipython3",
   "version": "3.9.13"
  }
 },
 "nbformat": 4,
 "nbformat_minor": 5
}
